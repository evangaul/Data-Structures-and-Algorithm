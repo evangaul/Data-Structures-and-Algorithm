{
 "cells": [
  {
   "cell_type": "markdown",
   "id": "38adefd6-b676-47da-92ea-8c4f861c74ee",
   "metadata": {},
   "source": [
    "# Sorting algorithms\n",
    "\n",
    "- Selection Sort\n",
    "- Insertion Sort\n",
    "- Bubble Sort\n",
    "- Merge Sort\n",
    "- Quicksort"
   ]
  },
  {
   "cell_type": "markdown",
   "id": "a0748968-9f57-4b90-bfe5-982df1c7f9fa",
   "metadata": {},
   "source": [
    "## Selection Sort\n",
    "\n",
    "Selection sort:\n",
    "1. Keep track of current index, Finds the smallest element in the range of the array\n",
    "2. Swaps the smallest element and the current index\n",
    "3. Increase current index by one and repeat until the index at end\n",
    "\n",
    "Selection sort is in-place\n",
    "\n",
    "O(n^2) complexity"
   ]
  },
  {
   "cell_type": "code",
   "execution_count": 15,
   "id": "b8ee53f7-0609-4575-8868-18864941011e",
   "metadata": {},
   "outputs": [],
   "source": [
    "arr = [29, 74, 32, 56, 57, 9, 31] # Will sort this"
   ]
  },
  {
   "cell_type": "code",
   "execution_count": 21,
   "id": "a3325045-1a0c-4a70-9a0c-4110cce3bd23",
   "metadata": {},
   "outputs": [],
   "source": [
    "def selection_sort(arr):\n",
    "    n = len(arr)\n",
    "    for i in range(n-1):\n",
    "        min_idx = i \n",
    "        for j in range(i+1, n): # Find min of unsorted part\n",
    "            if arr[j] < arr[min_idx]:\n",
    "                min_idx = j\n",
    "        if min_idx != i:\n",
    "            arr[i], arr[min_idx] = arr[min_idx], arr[i] # Swap elements\n",
    "    return arr"
   ]
  },
  {
   "cell_type": "code",
   "execution_count": 23,
   "id": "c0f3a280-b41d-4f77-b504-ee0f200b7225",
   "metadata": {},
   "outputs": [
    {
     "name": "stdout",
     "output_type": "stream",
     "text": [
      "[9, 29, 31, 32, 56, 57, 74]\n"
     ]
    }
   ],
   "source": [
    "print(selection_sort(arr))"
   ]
  },
  {
   "cell_type": "markdown",
   "id": "553d8d95-8374-42dd-8bd8-5f5a979f193d",
   "metadata": {},
   "source": [
    "## Insertion Sort\n",
    "1. Will keep a sorted part of list and unsorted part, start with the first element as sorted part\n",
    "2. For each next element in the unsorted part, insert into sorted part by comparing each element until a smaller element is found, then insert after\n",
    "3. Keep going until at the end of the array\n",
    "\n",
    "Insertion sort is in-place, stable, and adaptive\n",
    "\n",
    "Worst case: O(n^2)\n",
    "\n",
    "Best case: O(n)"
   ]
  },
  {
   "cell_type": "code",
   "execution_count": 59,
   "id": "33a15976-3dd4-46ea-b26f-282f8de9a2b0",
   "metadata": {},
   "outputs": [],
   "source": [
    "arr = [29, 74, 32, 56, 57, 9, 31] # Will sort this"
   ]
  },
  {
   "cell_type": "code",
   "execution_count": 61,
   "id": "d920c6ba-e75b-497b-8a8e-e3db2f80bb44",
   "metadata": {},
   "outputs": [],
   "source": [
    "def insertion_sort(arr):\n",
    "    for i in range(1, len(arr)): # Iterate from second element to end of array\n",
    "        curr_val = arr[i]\n",
    "        pos = i\n",
    "\n",
    "        while pos > 0 and arr[pos - 1] > curr_val:\n",
    "            arr[pos] = arr[pos-1]\n",
    "            pos -= 1\n",
    "\n",
    "        arr[pos] = curr_val\n",
    "\n",
    "    return arr"
   ]
  },
  {
   "cell_type": "code",
   "execution_count": 63,
   "id": "09172ad7-e203-453c-8e87-63716fac4851",
   "metadata": {},
   "outputs": [
    {
     "name": "stdout",
     "output_type": "stream",
     "text": [
      "[9, 29, 31, 32, 56, 57, 74]\n"
     ]
    }
   ],
   "source": [
    "print(insertion_sort(arr))"
   ]
  },
  {
   "cell_type": "markdown",
   "id": "299b0e22-52f4-4931-87ab-58e6869472a4",
   "metadata": {},
   "source": [
    "# Bubble Sort\n",
    "\n",
    "1. Compare a pair of adjacent elements\n",
    "2. Swap the pair if they are out of order\n",
    "3. Continue until at the end of array, the last element will be the biggest now\n",
    "4. Reduce the n (length of array to start) by 1 and repeat on the smaller list\n",
    "\n",
    "Bubble sort is in-place, stable, and adaptive\n",
    "\n",
    "O(n^2) time complexity"
   ]
  },
  {
   "cell_type": "code",
   "execution_count": 83,
   "id": "e30e5f75-36e6-4103-a58c-42149227a2ed",
   "metadata": {},
   "outputs": [],
   "source": [
    "arr = [29, 74, 32, 56, 57, 9, 31] # Will sort this"
   ]
  },
  {
   "cell_type": "code",
   "execution_count": 85,
   "id": "bd4c315d-0ccc-4b60-a581-03f83b17f998",
   "metadata": {},
   "outputs": [],
   "source": [
    "def bubble_sort(arr):\n",
    "    n = len(arr)\n",
    "    for i in range(n): # Go through all elements in array\n",
    "        swapped = False # This checks if there are swaps at the end of the loop, if none, then array is sorted\n",
    "\n",
    "        for j in range(0, n - i - 1): # Go from array from 0 to n-i-1\n",
    "            if arr[j] > arr[j + 1]: # Swap elements if element found is greater than next element\n",
    "                arr[j], arr[j + 1] = arr[j + 1], arr[j]\n",
    "                swapped = True\n",
    "        if not swapped: # If no elements are swapped by inner loop, break\n",
    "            break\n",
    "    return arr"
   ]
  },
  {
   "cell_type": "code",
   "execution_count": 87,
   "id": "33b31d60-f859-4b37-a0de-d8690f04cf5a",
   "metadata": {},
   "outputs": [
    {
     "name": "stdout",
     "output_type": "stream",
     "text": [
      "[9, 29, 31, 32, 56, 57, 74]\n"
     ]
    }
   ],
   "source": [
    "print(bubble_sort(arr))"
   ]
  },
  {
   "cell_type": "markdown",
   "id": "a6fb9aa6-9c12-46a4-b7a1-c54b5a816afe",
   "metadata": {},
   "source": [
    "# Merge Sort\n",
    "1. Break down array into its individual elements and put into sorted arrays of 2 elements\n",
    "2. Merge each sorted array of two elements into a sorted array of four, then repeat\n",
    "3. Finally merge the 2 sorted arrays of n/2 elements to make the final sorted array\n",
    "\n",
    "Merge sort is stable\n",
    "\n",
    "Time complexity: O(n log n) (All cases)\n",
    "\n",
    "Space complexity: O(n)"
   ]
  },
  {
   "cell_type": "code",
   "execution_count": 100,
   "id": "58188a6b-410d-49a7-b17c-58cd6d9024cc",
   "metadata": {},
   "outputs": [],
   "source": [
    "arr = [29, 74, 32, 56, 57, 9, 31] # Will sort this"
   ]
  },
  {
   "cell_type": "code",
   "execution_count": 102,
   "id": "5766e6d1-6ac3-4043-bc8e-693ca435402f",
   "metadata": {},
   "outputs": [],
   "source": [
    "def merge_sort(arr):\n",
    "    if len(arr) > 1:\n",
    "        mid = len(arr) // 2\n",
    "        right = arr[mid:] # Divide array into two halves\n",
    "        left = arr[:mid]\n",
    "\n",
    "        merge_sort(left) # Recursively sort the two halves\n",
    "        merge_sort(right)\n",
    "\n",
    "        i=j=k=0\n",
    "\n",
    "        # Merge the sorted halves\n",
    "        while i < len(left) and j < len(right):\n",
    "            if left[i] < right[j]:\n",
    "                arr[k] = left[i]\n",
    "                i+=1\n",
    "            else:\n",
    "                arr[k] = right[j]\n",
    "                j+=1\n",
    "            k+=1\n",
    "\n",
    "        # Copy remaining elements of left, if any\n",
    "        while i < len(left):\n",
    "            arr[k] = left[i]\n",
    "            i += 1\n",
    "            k += 1\n",
    "\n",
    "        # Copy remaining elements of right, if any\n",
    "        while j < len(right):\n",
    "            arr[k] = right[j]\n",
    "            j += 1\n",
    "            k += 1   "
   ]
  },
  {
   "cell_type": "code",
   "execution_count": 104,
   "id": "1d81b2f5-cc29-4b59-99de-bd924c862ef5",
   "metadata": {},
   "outputs": [
    {
     "name": "stdout",
     "output_type": "stream",
     "text": [
      "[29, 74, 32, 56, 57, 9, 31]\n",
      "[9, 29, 31, 32, 56, 57, 74]\n"
     ]
    }
   ],
   "source": [
    "print(arr)\n",
    "merge_sort(arr)\n",
    "print(arr)"
   ]
  },
  {
   "cell_type": "markdown",
   "id": "5ca258cb-0085-4964-9006-f27f86150d6d",
   "metadata": {},
   "source": [
    "# Quick Sort\n",
    "1. Divide and conquer, start by picking a pivot, commonly the first, last, or a random element is the pivot\n",
    "2. Rearrange the array so all elements smaller than the pivot placed before it, all elements greater than pivot are after it, pivot now in the correct spot\n",
    "3. Recursively do the same to the left and right sub-arrays\n",
    "4. Base case is when array has 0 or 1 elements"
   ]
  },
  {
   "cell_type": "code",
   "execution_count": 116,
   "id": "2d5b0101-4e88-4d77-9c7a-634eec9f232e",
   "metadata": {},
   "outputs": [],
   "source": [
    "arr = [29, 74, 32, 56, 57, 9, 31] # Will sort this"
   ]
  },
  {
   "cell_type": "code",
   "execution_count": 114,
   "id": "507b411a-65f3-4f69-8939-0874adc86bab",
   "metadata": {},
   "outputs": [],
   "source": [
    "def quick_sort(arr, low, high):\n",
    "    if low < high:\n",
    "        # Find pivot element such that\n",
    "        # elements smaller than pivot are on left\n",
    "        # elements greater than pivot are on right\n",
    "        pi = partition(arr, low, high)\n",
    "\n",
    "        # Recursive call on the left and right of pivot\n",
    "        quick_sort(arr, low, pi - 1)\n",
    "        quick_sort(arr, pi + 1, high)\n",
    "\n",
    "def partition(arr, low, high):\n",
    "    # Choose the rightmost element as pivot\n",
    "    pivot = arr[high]\n",
    "    \n",
    "    # Pointer for greater element\n",
    "    i = (low - 1)\n",
    "\n",
    "    # Traverse through all elements\n",
    "    # compare each with pivot\n",
    "    for j in range(low, high):\n",
    "        if arr[j] <= pivot:\n",
    "            # If element smaller than pivot is found\n",
    "            # swap it with the greater element pointed by i\n",
    "            i = i + 1\n",
    "            (arr[i], arr[j]) = (arr[j], arr[i])\n",
    "\n",
    "    # Swap the pivot element with the greater element at i + 1\n",
    "    (arr[i + 1], arr[high]) = (arr[high], arr[i + 1])\n",
    "\n",
    "    # Return the partition point\n",
    "    return i + 1"
   ]
  },
  {
   "cell_type": "code",
   "execution_count": 118,
   "id": "dcf2fa1e-142d-413f-9810-ba74e18f2f7c",
   "metadata": {},
   "outputs": [
    {
     "name": "stdout",
     "output_type": "stream",
     "text": [
      "[9, 29, 31, 32, 56, 57, 74]\n"
     ]
    }
   ],
   "source": [
    "quick_sort(arr, 0, len(arr) - 1)\n",
    "print(arr)"
   ]
  }
 ],
 "metadata": {
  "kernelspec": {
   "display_name": "Python 3 (ipykernel)",
   "language": "python",
   "name": "python3"
  },
  "language_info": {
   "codemirror_mode": {
    "name": "ipython",
    "version": 3
   },
   "file_extension": ".py",
   "mimetype": "text/x-python",
   "name": "python",
   "nbconvert_exporter": "python",
   "pygments_lexer": "ipython3",
   "version": "3.10.12"
  }
 },
 "nbformat": 4,
 "nbformat_minor": 5
}
