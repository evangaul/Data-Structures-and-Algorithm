{
 "cells": [
  {
   "cell_type": "markdown",
   "id": "4cfa95f0-04b9-4b55-81b0-cdb9dd869643",
   "metadata": {},
   "source": [
    "# Binary Search Trees \n",
    "Binary Search Trees (BST) are a type of binary tree (every node has up to two children) that follows certain properties. \n",
    "\n",
    "For every node, all values in left subtree have values less than the nodes' value and all values in the right subtree have values greater than the node.\n",
    "\n",
    "This allows for very effecient, searching, insertion, and deletion, all in about O(log n) time."
   ]
  },
  {
   "cell_type": "code",
   "execution_count": 36,
   "id": "4e5f18de-698b-460a-9b7c-938069a1c497",
   "metadata": {},
   "outputs": [],
   "source": [
    "# This holds the data of a single node in the binary search tree\n",
    "class Node:\n",
    "    def __init__(self, key):\n",
    "        self.left = None\n",
    "        self.right = None\n",
    "        self.val = key"
   ]
  },
  {
   "cell_type": "markdown",
   "id": "277f7ad5-4c57-4527-aae3-b4185893a841",
   "metadata": {},
   "source": [
    "### Basic Functions:\n",
    "- Insert()\n",
    "- Remove()\n",
    "- Search()"
   ]
  },
  {
   "cell_type": "markdown",
   "id": "c4fa7988-ed51-45e9-9a2f-0ccc37f2c6d0",
   "metadata": {},
   "source": [
    "### Insert\n",
    "Insert a new node into the binary search tree while maintaining the correct order. Traverse all nodes until a leaf node is found and insert at the right or left of that node"
   ]
  },
  {
   "cell_type": "code",
   "execution_count": 87,
   "id": "fc64d988-d705-4742-8fe7-e616d51a376b",
   "metadata": {},
   "outputs": [],
   "source": [
    "def insert(root, key):\n",
    "    if root is None: # Base case, no root\n",
    "        return Node(key)\n",
    "    if root.val == key: # Base case\n",
    "        return root\n",
    "    if root.val < key:\n",
    "        root.right = insert(root.right, key)\n",
    "    else:\n",
    "        root.left = insert(root.left, key)\n",
    "\n",
    "    return root"
   ]
  },
  {
   "cell_type": "markdown",
   "id": "489968a4-2592-4185-a13d-1e69a2cf6fe9",
   "metadata": {},
   "source": [
    "### Search\n",
    "Check root node, if equal return root (base case). If value is greater than root, recursively search right, else recursively search left"
   ]
  },
  {
   "cell_type": "code",
   "execution_count": 109,
   "id": "bb21c14d-879d-424e-a8c7-bac03dca03cb",
   "metadata": {},
   "outputs": [],
   "source": [
    "def search(root, key):\n",
    "    # Base Case\n",
    "    if root is None or root.val == key:\n",
    "        return root\n",
    "    # Key greater than root's key\n",
    "    if root.val < key:\n",
    "        return search(root.right, key)\n",
    "    else:\n",
    "        return search(root.left, key)"
   ]
  },
  {
   "cell_type": "markdown",
   "id": "a8b11bf8-60a0-4e99-a594-7db332372267",
   "metadata": {},
   "source": [
    "### Deletion\n",
    "Search for the node then delete it. Then:\n",
    "1. Node with left and right children\n",
    "   - Bring value of right child to the deleted node, put left pointer of the newly moved node to the left child\n",
    "2. Node with either left or a right child\n",
    "   - Replace node value with either left or right child\n",
    "3. Node with no children\n",
    "   - Delete it"
   ]
  },
  {
   "cell_type": "code",
   "execution_count": 141,
   "id": "595ac5be-9141-41b2-afca-ef35ef88ebf4",
   "metadata": {},
   "outputs": [],
   "source": [
    "def get_successor(curr):\n",
    "    curr = curr.right\n",
    "    while curr is not None and curr.left is not None:\n",
    "        curr = curr.left\n",
    "    return curr\n",
    "\n",
    "\n",
    "def remove(root, x):\n",
    "    # Base Case\n",
    "    if root is None:\n",
    "        return root\n",
    "\n",
    "    if root.val > x:\n",
    "        root.left = remove(root.left, x)\n",
    "    elif root.val < x:\n",
    "        root.right = remove(root.right, x)\n",
    "        \n",
    "    else:\n",
    "        # If root matches with the given key\n",
    "\n",
    "        # Cases when root has 0 children or \n",
    "        # only right child\n",
    "        if root.left is None:\n",
    "            return root.right\n",
    "\n",
    "        # When root has only left child\n",
    "        if root.right is None:\n",
    "            return root.left\n",
    "\n",
    "        # When both children are present\n",
    "        succ = get_successor(root)\n",
    "        root.val = succ.val\n",
    "        root.right = remove(root.right, succ.val)\n",
    "        \n",
    "    return root\n",
    "\n"
   ]
  },
  {
   "cell_type": "markdown",
   "id": "037b7d7e-b290-47fd-a1bd-d1234c3e5fa7",
   "metadata": {},
   "source": [
    "### Traversals\n",
    "\n",
    "Traversals visit every node in a certain order and perform an action on each one (like printing the value of each)\n",
    "- In Order - Left, Root, Right\n",
    "- Post Order - Left, Right, Root\n",
    "- Pre Order - Root, Left, Right"
   ]
  },
  {
   "cell_type": "code",
   "execution_count": 147,
   "id": "f63252c0-1842-4e8d-824c-0b838403cc57",
   "metadata": {},
   "outputs": [],
   "source": [
    "def inOrder(root):\n",
    "    if root:\n",
    "        inOrder(root.left)\n",
    "        print(root.val, end=\" \")\n",
    "        inOrder(root.right)\n",
    "\n",
    "def postOrder(root):\n",
    "    if root:\n",
    "        postOrder(root.left)\n",
    "        postOrder(root.right)\n",
    "        print(root.val, end=\" \")\n",
    "\n",
    "def preOrder(root):\n",
    "    if root:\n",
    "        print(root.val, end=\" \")\n",
    "        preOrder(root.left)\n",
    "        preOrder(root.right)"
   ]
  },
  {
   "cell_type": "code",
   "execution_count": 176,
   "id": "a151a17c-837c-4af1-a7be-7da141d57f2b",
   "metadata": {},
   "outputs": [
    {
     "name": "stdout",
     "output_type": "stream",
     "text": [
      "4 10 11 13 15 16 18 20 \n",
      "--------------------------\n",
      "4 13 11 10 16 20 18 15 \n",
      "--------------------------\n",
      "15 10 4 11 13 18 16 20 "
     ]
    }
   ],
   "source": [
    "r = Node(15)\n",
    "r = insert(r, 10)\n",
    "r = insert(r, 18)\n",
    "r = insert(r, 4)\n",
    "r = insert(r, 11)\n",
    "r = insert(r, 16)\n",
    "r = insert(r, 20)\n",
    "r = insert(r, 13)\n",
    "# BST:\n",
    "#          15\n",
    "#       10    18  \n",
    "#     4  11  16 20\n",
    "#         13\n",
    "\n",
    "inOrder(r)\n",
    "print(\"\\n--------------------------\")\n",
    "postOrder(r)\n",
    "print(\"\\n--------------------------\")\n",
    "preOrder(r)"
   ]
  },
  {
   "cell_type": "code",
   "execution_count": 178,
   "id": "767f6146-3325-41cc-868e-7d4697428653",
   "metadata": {},
   "outputs": [
    {
     "name": "stdout",
     "output_type": "stream",
     "text": [
      "Not Found\n",
      "Found\n"
     ]
    }
   ],
   "source": [
    "root = Node(50)\n",
    "root.left = Node(30)\n",
    "root.right = Node(70)\n",
    "root.left.left = Node(20)\n",
    "root.left.right = Node(40)\n",
    "root.right.left = Node(60)\n",
    "root.right.right = Node(80)\n",
    "\n",
    "print(\"Found\" if search(root, 19) else \"Not Found\")\n",
    "print(\"Found\" if search(root, 80) else \"Not Found\")"
   ]
  },
  {
   "cell_type": "code",
   "execution_count": 143,
   "id": "c8e8ddf8-476c-4b01-883e-c9b59782a515",
   "metadata": {},
   "outputs": [
    {
     "name": "stdout",
     "output_type": "stream",
     "text": [
      "5 10 12 18 "
     ]
    }
   ],
   "source": [
    "root = Node(10)\n",
    "root.left = Node(5)\n",
    "root.right = Node(15)\n",
    "root.right.left = Node(12)\n",
    "root.right.right = Node(18)\n",
    "x = 15\n",
    "\n",
    "root = remove(root, x)\n",
    "inorder(root)"
   ]
  },
  {
   "cell_type": "code",
   "execution_count": null,
   "id": "8158e9f2-c144-4958-ad32-797e55790fa7",
   "metadata": {},
   "outputs": [],
   "source": []
  }
 ],
 "metadata": {
  "kernelspec": {
   "display_name": "Python 3 (ipykernel)",
   "language": "python",
   "name": "python3"
  },
  "language_info": {
   "codemirror_mode": {
    "name": "ipython",
    "version": 3
   },
   "file_extension": ".py",
   "mimetype": "text/x-python",
   "name": "python",
   "nbconvert_exporter": "python",
   "pygments_lexer": "ipython3",
   "version": "3.10.12"
  }
 },
 "nbformat": 4,
 "nbformat_minor": 5
}
