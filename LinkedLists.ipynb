{
 "cells": [
  {
   "cell_type": "markdown",
   "id": "8142ca24-606f-4f40-a788-cb7a207b6f85",
   "metadata": {},
   "source": [
    "# Linked Lists\n",
    "Types of linked lists:\n",
    "- Singly Linked List\n",
    "- Doubly Linked List\n",
    "- Circular Linked List\n",
    "\n",
    "Linked lists allow for much faster insertion and deletion of data compared to arrays\n",
    "\n",
    "\n",
    "\n",
    "## Singly Linked Lists\n",
    "Singly linked lists have nodes, and each node contains data and a reference to the next node. The next of the last node is null. "
   ]
  },
  {
   "cell_type": "code",
   "execution_count": 24,
   "id": "5d84ace6-8085-42e7-a95a-9d72d0b86f7f",
   "metadata": {},
   "outputs": [],
   "source": [
    "# Start with a class that will create the nodes for the linked list\n",
    "class SNode:\n",
    "    def __init__(self, val, next=None):\n",
    "        self.val = val\n",
    "        self.next = next\n",
    "\n",
    "    def __str__(self):\n",
    "        return str(self.val)"
   ]
  },
  {
   "cell_type": "code",
   "execution_count": 46,
   "id": "80c95373-e990-4e07-ade1-a7cd73d07d0f",
   "metadata": {},
   "outputs": [],
   "source": [
    "# Test Data\n",
    "A = SNode(5) # Head\n",
    "B = SNode(6)\n",
    "C = SNode(7)\n",
    "D = SNode(8) # Tail\n",
    "\n",
    "A.next = B\n",
    "B.next = C\n",
    "C.next = D"
   ]
  },
  {
   "cell_type": "markdown",
   "id": "15d76d70-5189-49a7-bb8b-f1c438df8238",
   "metadata": {},
   "source": [
    "### List Traversal (O(n))"
   ]
  },
  {
   "cell_type": "code",
   "execution_count": 48,
   "id": "6fe6446a-b24c-4e68-ac38-30b11bcd8426",
   "metadata": {},
   "outputs": [
    {
     "name": "stdout",
     "output_type": "stream",
     "text": [
      "5\n",
      "6\n",
      "7\n",
      "8\n"
     ]
    }
   ],
   "source": [
    "curr = A\n",
    "\n",
    "while curr:\n",
    "    print(curr)\n",
    "    curr = curr.next"
   ]
  },
  {
   "cell_type": "markdown",
   "id": "3f60e0d8-4606-4772-b61b-265bd2cbff25",
   "metadata": {},
   "source": [
    "### Searching (O(n))"
   ]
  },
  {
   "cell_type": "code",
   "execution_count": 50,
   "id": "eecae748-91bb-440a-9aa9-78b847f88c70",
   "metadata": {},
   "outputs": [
    {
     "name": "stdout",
     "output_type": "stream",
     "text": [
      "True\n",
      "False\n"
     ]
    }
   ],
   "source": [
    "def search(head, val):\n",
    "    curr = head\n",
    "    while curr:\n",
    "        if val == curr.val:\n",
    "            return True\n",
    "        curr = curr.next\n",
    "    return False\n",
    "\n",
    "print(search(A, 8))\n",
    "print(search(A, 9))"
   ]
  },
  {
   "cell_type": "markdown",
   "id": "4b14aa9b-d423-4d75-b1dd-cf261c953a95",
   "metadata": {},
   "source": [
    "### Insertion and Deletion"
   ]
  },
  {
   "cell_type": "code",
   "execution_count": null,
   "id": "916f72f7-c2b9-4b2c-b73b-eab28ce7669d",
   "metadata": {},
   "outputs": [],
   "source": [
    "def insert_at_beginning(head, val):\n",
    "    if not head:\n",
    "        print(\"Error\")\n",
    "        return\n",
    "    new_node = Node(val)\n",
    "    new_node.next = head\n",
    "    return new_node\n",
    "\n",
    "def delete_at_beginning(head):\n",
    "    # Delete node at beginning of linked list\n",
    "    if not head:\n",
    "        print(\"Error\")\n",
    "        return None\n",
    "    new_head = head.next\n",
    "    del head\n",
    "    return new_head\n",
    "\n",
    "def delete_after_node(node):\n",
    "    if not node or not node.next:\n",
    "        print(\"Error\")\n",
    "        return\n",
    "    next_node = node.next\n",
    "    node.next = next_node.next\n",
    "    del next_node\n",
    "\n",
    "\n"
   ]
  },
  {
   "cell_type": "markdown",
   "id": "d5fde1e1-18be-4e7d-b7de-6f3337492ab1",
   "metadata": {},
   "source": [
    "### Detect Loop in a Linked List"
   ]
  },
  {
   "cell_type": "code",
   "execution_count": 54,
   "id": "f105fd04-d285-41ac-a4ec-aacf89e0993c",
   "metadata": {},
   "outputs": [],
   "source": [
    "def detectLoop(head):\n",
    "    slow = head\n",
    "    fast = head\n",
    "\n",
    "    # Floyds Cycle Finding Algorithm\n",
    "    while fast and fast.next:\n",
    "        slow = slow.next\n",
    "        fast = fast.next.next\n",
    "\n",
    "        # If fast and slow pointer points to the same node then a cycle is detected\n",
    "        if slow == fast:\n",
    "            return True\n",
    "    return False # No loop detected because the end of list was found."
   ]
  },
  {
   "cell_type": "markdown",
   "id": "18fc5534-cbb0-46d9-8fea-7815402b7fba",
   "metadata": {},
   "source": [
    "## Doubly Linked Lists\n",
    "Doubly Linked lists have nodes that contain data and a reference to the next node and a reference to the previous node. The next of the last node and the previous of the first node are both null."
   ]
  },
  {
   "cell_type": "code",
   "execution_count": 44,
   "id": "e42b81a9-624e-4fbd-a7f0-53682368a0b9",
   "metadata": {},
   "outputs": [],
   "source": [
    "# Class for the doubly linked list node\n",
    "class DNode:\n",
    "    def __init__(self, val, next=None, prev=None):\n",
    "        self.val = val\n",
    "        self.next = next\n",
    "        self.prev = prev\n",
    "\n",
    "    def __str__(self):\n",
    "        return str(self.val)"
   ]
  },
  {
   "cell_type": "markdown",
   "id": "5ff53a90-d04a-47d0-94c9-b8b24545b326",
   "metadata": {},
   "source": [
    "## Circular Linked Lists\n",
    "Circular linked lists have one cycle where the tail pointer points back to the head pointer"
   ]
  }
 ],
 "metadata": {
  "kernelspec": {
   "display_name": "Python 3 (ipykernel)",
   "language": "python",
   "name": "python3"
  },
  "language_info": {
   "codemirror_mode": {
    "name": "ipython",
    "version": 3
   },
   "file_extension": ".py",
   "mimetype": "text/x-python",
   "name": "python",
   "nbconvert_exporter": "python",
   "pygments_lexer": "ipython3",
   "version": "3.10.12"
  }
 },
 "nbformat": 4,
 "nbformat_minor": 5
}
